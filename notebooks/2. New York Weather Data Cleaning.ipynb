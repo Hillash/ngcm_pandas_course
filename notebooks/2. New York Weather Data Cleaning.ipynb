{
 "cells": [
  {
   "cell_type": "code",
   "execution_count": null,
   "metadata": {
    "collapsed": true
   },
   "outputs": [],
   "source": [
    "import pandas as pd"
   ]
  },
  {
   "cell_type": "code",
   "execution_count": null,
   "metadata": {
    "collapsed": false
   },
   "outputs": [],
   "source": [
    "dta = pd.read_csv(\"../data/weather_nyc.csv\")"
   ]
  },
  {
   "cell_type": "code",
   "execution_count": null,
   "metadata": {
    "collapsed": false
   },
   "outputs": [],
   "source": [
    "dta.head()"
   ]
  },
  {
   "cell_type": "code",
   "execution_count": null,
   "metadata": {
    "collapsed": false
   },
   "outputs": [],
   "source": [
    "def calc_summary_stats(x):\n",
    "    lower = x.min()\n",
    "    upper = x.max()\n",
    "    avg = x.mean()\n",
    "    std_err = x.std()/np.sqrt(len(x))\n",
    "    ci_upper = avg + 1.96 * std_err\n",
    "    ci_lower = avg - 1.96 * std_err\n",
    "    return pd.Series([lower, upper, avg, std_err, ci_upper, ci_lower],\n",
    "                      index=['lower', 'upper', 'avg', 'std_err', 'ci_upper', 'ci_lower'])\n",
    "\n",
    "dta.set_index(pd.to_datetime(dta.year*10000 + dta.month*100 + dta.day,\n",
    "              format=\"%Y%m%d\"), inplace=True)\n",
    "\n",
    "past = dta.query(\"temp != -99 and index < 2014\").temp\n",
    "grouped = past.groupby(lambda x : (x.month, x.day))\n",
    "past_stats = grouped.apply(calc_summary_stats)\n",
    "past_stats = past_stats.unstack(level=1)\n",
    "\n",
    "present = dta.query(\"temp != -99 and index >= 2014 and index < 2015\").temp\n",
    "grouped = present.groupby(lambda x : (x.month, x.day))\n",
    "presentlows = grouped.min()\n",
    "presentlows = presentlows.ix[presentlows <\n",
    "                             past_stats.ix[presentlows.index].lower]\n",
    " \n",
    "presenthighs = grouped.max()\n",
    "presenthighs = presenthighs.ix[presenthighs >\n",
    "                               past_stats.ix[presenthighs.index].upper]\n"
   ]
  },
  {
   "cell_type": "code",
   "execution_count": null,
   "metadata": {
    "collapsed": false
   },
   "outputs": [],
   "source": [
    "past_stats.head()"
   ]
  },
  {
   "cell_type": "code",
   "execution_count": null,
   "metadata": {
    "collapsed": false
   },
   "outputs": [],
   "source": [
    "presenthighs.head()"
   ]
  },
  {
   "cell_type": "code",
   "execution_count": null,
   "metadata": {
    "collapsed": false
   },
   "outputs": [],
   "source": [
    "presentlows.head()"
   ]
  }
 ],
 "metadata": {
  "kernelspec": {
   "display_name": "Python 3",
   "language": "python",
   "name": "python3"
  },
  "language_info": {
   "codemirror_mode": {
    "name": "ipython",
    "version": 3
   },
   "file_extension": ".py",
   "mimetype": "text/x-python",
   "name": "python",
   "nbconvert_exporter": "python",
   "pygments_lexer": "ipython3",
   "version": "3.4.2"
  }
 },
 "nbformat": 4,
 "nbformat_minor": 0
}
